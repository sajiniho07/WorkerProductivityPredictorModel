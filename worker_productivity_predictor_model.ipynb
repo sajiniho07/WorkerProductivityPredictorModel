{
  "nbformat": 4,
  "nbformat_minor": 0,
  "metadata": {
    "colab": {
      "provenance": [],
      "authorship_tag": "ABX9TyMEXy8AsS/qUZAWKRjvGNSe",
      "include_colab_link": true
    },
    "kernelspec": {
      "name": "python3",
      "display_name": "Python 3"
    },
    "language_info": {
      "name": "python"
    }
  },
  "cells": [
    {
      "cell_type": "markdown",
      "metadata": {
        "id": "view-in-github",
        "colab_type": "text"
      },
      "source": [
        "<a href=\"https://colab.research.google.com/github/sajiniho07/WorkerProductivityPredictorModel/blob/main/worker_productivity_predictor_model.ipynb\" target=\"_parent\"><img src=\"https://colab.research.google.com/assets/colab-badge.svg\" alt=\"Open In Colab\"/></a>"
      ]
    },
    {
      "cell_type": "code",
      "execution_count": 2,
      "metadata": {
        "id": "5x4glzCY7NtO"
      },
      "outputs": [],
      "source": [
        "import pandas as pd\n",
        "import numpy as np"
      ]
    },
    {
      "cell_type": "code",
      "source": [
        "# step 1: read data"
      ],
      "metadata": {
        "id": "ayfCHks1x6JI"
      },
      "execution_count": null,
      "outputs": []
    },
    {
      "cell_type": "code",
      "source": [
        "df = pd.read_csv(\"/content/garments_worker_productivity.csv\")"
      ],
      "metadata": {
        "id": "IoQ4zbmjQGxC"
      },
      "execution_count": 16,
      "outputs": []
    },
    {
      "cell_type": "code",
      "source": [
        "df.head()"
      ],
      "metadata": {
        "colab": {
          "base_uri": "https://localhost:8080/",
          "height": 270
        },
        "id": "20HSFg1bQy0Y",
        "outputId": "93e649df-80ca-4fc4-f76d-83d7cbf6f1ce"
      },
      "execution_count": 17,
      "outputs": [
        {
          "output_type": "execute_result",
          "data": {
            "text/plain": [
              "       date   quarter  department       day  team  targeted_productivity  \\\n",
              "0  1/1/2015  Quarter1      sweing  Thursday     8                   0.80   \n",
              "1  1/1/2015  Quarter1  finishing   Thursday     1                   0.75   \n",
              "2  1/1/2015  Quarter1      sweing  Thursday    11                   0.80   \n",
              "3  1/1/2015  Quarter1      sweing  Thursday    12                   0.80   \n",
              "4  1/1/2015  Quarter1      sweing  Thursday     6                   0.80   \n",
              "\n",
              "     smv     wip  over_time  incentive  idle_time  idle_men  \\\n",
              "0  26.16  1108.0       7080         98        0.0         0   \n",
              "1   3.94     NaN        960          0        0.0         0   \n",
              "2  11.41   968.0       3660         50        0.0         0   \n",
              "3  11.41   968.0       3660         50        0.0         0   \n",
              "4  25.90  1170.0       1920         50        0.0         0   \n",
              "\n",
              "   no_of_style_change  no_of_workers  actual_productivity  \n",
              "0                   0           59.0             0.940725  \n",
              "1                   0            8.0             0.886500  \n",
              "2                   0           30.5             0.800570  \n",
              "3                   0           30.5             0.800570  \n",
              "4                   0           56.0             0.800382  "
            ],
            "text/html": [
              "\n",
              "  <div id=\"df-7ccc64da-c017-4030-ab91-0e748806ded2\">\n",
              "    <div class=\"colab-df-container\">\n",
              "      <div>\n",
              "<style scoped>\n",
              "    .dataframe tbody tr th:only-of-type {\n",
              "        vertical-align: middle;\n",
              "    }\n",
              "\n",
              "    .dataframe tbody tr th {\n",
              "        vertical-align: top;\n",
              "    }\n",
              "\n",
              "    .dataframe thead th {\n",
              "        text-align: right;\n",
              "    }\n",
              "</style>\n",
              "<table border=\"1\" class=\"dataframe\">\n",
              "  <thead>\n",
              "    <tr style=\"text-align: right;\">\n",
              "      <th></th>\n",
              "      <th>date</th>\n",
              "      <th>quarter</th>\n",
              "      <th>department</th>\n",
              "      <th>day</th>\n",
              "      <th>team</th>\n",
              "      <th>targeted_productivity</th>\n",
              "      <th>smv</th>\n",
              "      <th>wip</th>\n",
              "      <th>over_time</th>\n",
              "      <th>incentive</th>\n",
              "      <th>idle_time</th>\n",
              "      <th>idle_men</th>\n",
              "      <th>no_of_style_change</th>\n",
              "      <th>no_of_workers</th>\n",
              "      <th>actual_productivity</th>\n",
              "    </tr>\n",
              "  </thead>\n",
              "  <tbody>\n",
              "    <tr>\n",
              "      <th>0</th>\n",
              "      <td>1/1/2015</td>\n",
              "      <td>Quarter1</td>\n",
              "      <td>sweing</td>\n",
              "      <td>Thursday</td>\n",
              "      <td>8</td>\n",
              "      <td>0.80</td>\n",
              "      <td>26.16</td>\n",
              "      <td>1108.0</td>\n",
              "      <td>7080</td>\n",
              "      <td>98</td>\n",
              "      <td>0.0</td>\n",
              "      <td>0</td>\n",
              "      <td>0</td>\n",
              "      <td>59.0</td>\n",
              "      <td>0.940725</td>\n",
              "    </tr>\n",
              "    <tr>\n",
              "      <th>1</th>\n",
              "      <td>1/1/2015</td>\n",
              "      <td>Quarter1</td>\n",
              "      <td>finishing</td>\n",
              "      <td>Thursday</td>\n",
              "      <td>1</td>\n",
              "      <td>0.75</td>\n",
              "      <td>3.94</td>\n",
              "      <td>NaN</td>\n",
              "      <td>960</td>\n",
              "      <td>0</td>\n",
              "      <td>0.0</td>\n",
              "      <td>0</td>\n",
              "      <td>0</td>\n",
              "      <td>8.0</td>\n",
              "      <td>0.886500</td>\n",
              "    </tr>\n",
              "    <tr>\n",
              "      <th>2</th>\n",
              "      <td>1/1/2015</td>\n",
              "      <td>Quarter1</td>\n",
              "      <td>sweing</td>\n",
              "      <td>Thursday</td>\n",
              "      <td>11</td>\n",
              "      <td>0.80</td>\n",
              "      <td>11.41</td>\n",
              "      <td>968.0</td>\n",
              "      <td>3660</td>\n",
              "      <td>50</td>\n",
              "      <td>0.0</td>\n",
              "      <td>0</td>\n",
              "      <td>0</td>\n",
              "      <td>30.5</td>\n",
              "      <td>0.800570</td>\n",
              "    </tr>\n",
              "    <tr>\n",
              "      <th>3</th>\n",
              "      <td>1/1/2015</td>\n",
              "      <td>Quarter1</td>\n",
              "      <td>sweing</td>\n",
              "      <td>Thursday</td>\n",
              "      <td>12</td>\n",
              "      <td>0.80</td>\n",
              "      <td>11.41</td>\n",
              "      <td>968.0</td>\n",
              "      <td>3660</td>\n",
              "      <td>50</td>\n",
              "      <td>0.0</td>\n",
              "      <td>0</td>\n",
              "      <td>0</td>\n",
              "      <td>30.5</td>\n",
              "      <td>0.800570</td>\n",
              "    </tr>\n",
              "    <tr>\n",
              "      <th>4</th>\n",
              "      <td>1/1/2015</td>\n",
              "      <td>Quarter1</td>\n",
              "      <td>sweing</td>\n",
              "      <td>Thursday</td>\n",
              "      <td>6</td>\n",
              "      <td>0.80</td>\n",
              "      <td>25.90</td>\n",
              "      <td>1170.0</td>\n",
              "      <td>1920</td>\n",
              "      <td>50</td>\n",
              "      <td>0.0</td>\n",
              "      <td>0</td>\n",
              "      <td>0</td>\n",
              "      <td>56.0</td>\n",
              "      <td>0.800382</td>\n",
              "    </tr>\n",
              "  </tbody>\n",
              "</table>\n",
              "</div>\n",
              "      <button class=\"colab-df-convert\" onclick=\"convertToInteractive('df-7ccc64da-c017-4030-ab91-0e748806ded2')\"\n",
              "              title=\"Convert this dataframe to an interactive table.\"\n",
              "              style=\"display:none;\">\n",
              "        \n",
              "  <svg xmlns=\"http://www.w3.org/2000/svg\" height=\"24px\"viewBox=\"0 0 24 24\"\n",
              "       width=\"24px\">\n",
              "    <path d=\"M0 0h24v24H0V0z\" fill=\"none\"/>\n",
              "    <path d=\"M18.56 5.44l.94 2.06.94-2.06 2.06-.94-2.06-.94-.94-2.06-.94 2.06-2.06.94zm-11 1L8.5 8.5l.94-2.06 2.06-.94-2.06-.94L8.5 2.5l-.94 2.06-2.06.94zm10 10l.94 2.06.94-2.06 2.06-.94-2.06-.94-.94-2.06-.94 2.06-2.06.94z\"/><path d=\"M17.41 7.96l-1.37-1.37c-.4-.4-.92-.59-1.43-.59-.52 0-1.04.2-1.43.59L10.3 9.45l-7.72 7.72c-.78.78-.78 2.05 0 2.83L4 21.41c.39.39.9.59 1.41.59.51 0 1.02-.2 1.41-.59l7.78-7.78 2.81-2.81c.8-.78.8-2.07 0-2.86zM5.41 20L4 18.59l7.72-7.72 1.47 1.35L5.41 20z\"/>\n",
              "  </svg>\n",
              "      </button>\n",
              "      \n",
              "  <style>\n",
              "    .colab-df-container {\n",
              "      display:flex;\n",
              "      flex-wrap:wrap;\n",
              "      gap: 12px;\n",
              "    }\n",
              "\n",
              "    .colab-df-convert {\n",
              "      background-color: #E8F0FE;\n",
              "      border: none;\n",
              "      border-radius: 50%;\n",
              "      cursor: pointer;\n",
              "      display: none;\n",
              "      fill: #1967D2;\n",
              "      height: 32px;\n",
              "      padding: 0 0 0 0;\n",
              "      width: 32px;\n",
              "    }\n",
              "\n",
              "    .colab-df-convert:hover {\n",
              "      background-color: #E2EBFA;\n",
              "      box-shadow: 0px 1px 2px rgba(60, 64, 67, 0.3), 0px 1px 3px 1px rgba(60, 64, 67, 0.15);\n",
              "      fill: #174EA6;\n",
              "    }\n",
              "\n",
              "    [theme=dark] .colab-df-convert {\n",
              "      background-color: #3B4455;\n",
              "      fill: #D2E3FC;\n",
              "    }\n",
              "\n",
              "    [theme=dark] .colab-df-convert:hover {\n",
              "      background-color: #434B5C;\n",
              "      box-shadow: 0px 1px 3px 1px rgba(0, 0, 0, 0.15);\n",
              "      filter: drop-shadow(0px 1px 2px rgba(0, 0, 0, 0.3));\n",
              "      fill: #FFFFFF;\n",
              "    }\n",
              "  </style>\n",
              "\n",
              "      <script>\n",
              "        const buttonEl =\n",
              "          document.querySelector('#df-7ccc64da-c017-4030-ab91-0e748806ded2 button.colab-df-convert');\n",
              "        buttonEl.style.display =\n",
              "          google.colab.kernel.accessAllowed ? 'block' : 'none';\n",
              "\n",
              "        async function convertToInteractive(key) {\n",
              "          const element = document.querySelector('#df-7ccc64da-c017-4030-ab91-0e748806ded2');\n",
              "          const dataTable =\n",
              "            await google.colab.kernel.invokeFunction('convertToInteractive',\n",
              "                                                     [key], {});\n",
              "          if (!dataTable) return;\n",
              "\n",
              "          const docLinkHtml = 'Like what you see? Visit the ' +\n",
              "            '<a target=\"_blank\" href=https://colab.research.google.com/notebooks/data_table.ipynb>data table notebook</a>'\n",
              "            + ' to learn more about interactive tables.';\n",
              "          element.innerHTML = '';\n",
              "          dataTable['output_type'] = 'display_data';\n",
              "          await google.colab.output.renderOutput(dataTable, element);\n",
              "          const docLink = document.createElement('div');\n",
              "          docLink.innerHTML = docLinkHtml;\n",
              "          element.appendChild(docLink);\n",
              "        }\n",
              "      </script>\n",
              "    </div>\n",
              "  </div>\n",
              "  "
            ]
          },
          "metadata": {},
          "execution_count": 17
        }
      ]
    },
    {
      "cell_type": "code",
      "source": [
        "df = df.drop(labels=['date',\t'quarter',\t'department',\t'day'], axis=1)\n",
        "df.head()"
      ],
      "metadata": {
        "colab": {
          "base_uri": "https://localhost:8080/",
          "height": 250
        },
        "id": "b8yWRdHndIc0",
        "outputId": "2e7ade1b-f152-450c-c328-99d80f0ef47c"
      },
      "execution_count": 18,
      "outputs": [
        {
          "output_type": "execute_result",
          "data": {
            "text/plain": [
              "   team  targeted_productivity    smv     wip  over_time  incentive  \\\n",
              "0     8                   0.80  26.16  1108.0       7080         98   \n",
              "1     1                   0.75   3.94     NaN        960          0   \n",
              "2    11                   0.80  11.41   968.0       3660         50   \n",
              "3    12                   0.80  11.41   968.0       3660         50   \n",
              "4     6                   0.80  25.90  1170.0       1920         50   \n",
              "\n",
              "   idle_time  idle_men  no_of_style_change  no_of_workers  actual_productivity  \n",
              "0        0.0         0                   0           59.0             0.940725  \n",
              "1        0.0         0                   0            8.0             0.886500  \n",
              "2        0.0         0                   0           30.5             0.800570  \n",
              "3        0.0         0                   0           30.5             0.800570  \n",
              "4        0.0         0                   0           56.0             0.800382  "
            ],
            "text/html": [
              "\n",
              "  <div id=\"df-e6db2e0d-e850-4c74-b214-2de2142256be\">\n",
              "    <div class=\"colab-df-container\">\n",
              "      <div>\n",
              "<style scoped>\n",
              "    .dataframe tbody tr th:only-of-type {\n",
              "        vertical-align: middle;\n",
              "    }\n",
              "\n",
              "    .dataframe tbody tr th {\n",
              "        vertical-align: top;\n",
              "    }\n",
              "\n",
              "    .dataframe thead th {\n",
              "        text-align: right;\n",
              "    }\n",
              "</style>\n",
              "<table border=\"1\" class=\"dataframe\">\n",
              "  <thead>\n",
              "    <tr style=\"text-align: right;\">\n",
              "      <th></th>\n",
              "      <th>team</th>\n",
              "      <th>targeted_productivity</th>\n",
              "      <th>smv</th>\n",
              "      <th>wip</th>\n",
              "      <th>over_time</th>\n",
              "      <th>incentive</th>\n",
              "      <th>idle_time</th>\n",
              "      <th>idle_men</th>\n",
              "      <th>no_of_style_change</th>\n",
              "      <th>no_of_workers</th>\n",
              "      <th>actual_productivity</th>\n",
              "    </tr>\n",
              "  </thead>\n",
              "  <tbody>\n",
              "    <tr>\n",
              "      <th>0</th>\n",
              "      <td>8</td>\n",
              "      <td>0.80</td>\n",
              "      <td>26.16</td>\n",
              "      <td>1108.0</td>\n",
              "      <td>7080</td>\n",
              "      <td>98</td>\n",
              "      <td>0.0</td>\n",
              "      <td>0</td>\n",
              "      <td>0</td>\n",
              "      <td>59.0</td>\n",
              "      <td>0.940725</td>\n",
              "    </tr>\n",
              "    <tr>\n",
              "      <th>1</th>\n",
              "      <td>1</td>\n",
              "      <td>0.75</td>\n",
              "      <td>3.94</td>\n",
              "      <td>NaN</td>\n",
              "      <td>960</td>\n",
              "      <td>0</td>\n",
              "      <td>0.0</td>\n",
              "      <td>0</td>\n",
              "      <td>0</td>\n",
              "      <td>8.0</td>\n",
              "      <td>0.886500</td>\n",
              "    </tr>\n",
              "    <tr>\n",
              "      <th>2</th>\n",
              "      <td>11</td>\n",
              "      <td>0.80</td>\n",
              "      <td>11.41</td>\n",
              "      <td>968.0</td>\n",
              "      <td>3660</td>\n",
              "      <td>50</td>\n",
              "      <td>0.0</td>\n",
              "      <td>0</td>\n",
              "      <td>0</td>\n",
              "      <td>30.5</td>\n",
              "      <td>0.800570</td>\n",
              "    </tr>\n",
              "    <tr>\n",
              "      <th>3</th>\n",
              "      <td>12</td>\n",
              "      <td>0.80</td>\n",
              "      <td>11.41</td>\n",
              "      <td>968.0</td>\n",
              "      <td>3660</td>\n",
              "      <td>50</td>\n",
              "      <td>0.0</td>\n",
              "      <td>0</td>\n",
              "      <td>0</td>\n",
              "      <td>30.5</td>\n",
              "      <td>0.800570</td>\n",
              "    </tr>\n",
              "    <tr>\n",
              "      <th>4</th>\n",
              "      <td>6</td>\n",
              "      <td>0.80</td>\n",
              "      <td>25.90</td>\n",
              "      <td>1170.0</td>\n",
              "      <td>1920</td>\n",
              "      <td>50</td>\n",
              "      <td>0.0</td>\n",
              "      <td>0</td>\n",
              "      <td>0</td>\n",
              "      <td>56.0</td>\n",
              "      <td>0.800382</td>\n",
              "    </tr>\n",
              "  </tbody>\n",
              "</table>\n",
              "</div>\n",
              "      <button class=\"colab-df-convert\" onclick=\"convertToInteractive('df-e6db2e0d-e850-4c74-b214-2de2142256be')\"\n",
              "              title=\"Convert this dataframe to an interactive table.\"\n",
              "              style=\"display:none;\">\n",
              "        \n",
              "  <svg xmlns=\"http://www.w3.org/2000/svg\" height=\"24px\"viewBox=\"0 0 24 24\"\n",
              "       width=\"24px\">\n",
              "    <path d=\"M0 0h24v24H0V0z\" fill=\"none\"/>\n",
              "    <path d=\"M18.56 5.44l.94 2.06.94-2.06 2.06-.94-2.06-.94-.94-2.06-.94 2.06-2.06.94zm-11 1L8.5 8.5l.94-2.06 2.06-.94-2.06-.94L8.5 2.5l-.94 2.06-2.06.94zm10 10l.94 2.06.94-2.06 2.06-.94-2.06-.94-.94-2.06-.94 2.06-2.06.94z\"/><path d=\"M17.41 7.96l-1.37-1.37c-.4-.4-.92-.59-1.43-.59-.52 0-1.04.2-1.43.59L10.3 9.45l-7.72 7.72c-.78.78-.78 2.05 0 2.83L4 21.41c.39.39.9.59 1.41.59.51 0 1.02-.2 1.41-.59l7.78-7.78 2.81-2.81c.8-.78.8-2.07 0-2.86zM5.41 20L4 18.59l7.72-7.72 1.47 1.35L5.41 20z\"/>\n",
              "  </svg>\n",
              "      </button>\n",
              "      \n",
              "  <style>\n",
              "    .colab-df-container {\n",
              "      display:flex;\n",
              "      flex-wrap:wrap;\n",
              "      gap: 12px;\n",
              "    }\n",
              "\n",
              "    .colab-df-convert {\n",
              "      background-color: #E8F0FE;\n",
              "      border: none;\n",
              "      border-radius: 50%;\n",
              "      cursor: pointer;\n",
              "      display: none;\n",
              "      fill: #1967D2;\n",
              "      height: 32px;\n",
              "      padding: 0 0 0 0;\n",
              "      width: 32px;\n",
              "    }\n",
              "\n",
              "    .colab-df-convert:hover {\n",
              "      background-color: #E2EBFA;\n",
              "      box-shadow: 0px 1px 2px rgba(60, 64, 67, 0.3), 0px 1px 3px 1px rgba(60, 64, 67, 0.15);\n",
              "      fill: #174EA6;\n",
              "    }\n",
              "\n",
              "    [theme=dark] .colab-df-convert {\n",
              "      background-color: #3B4455;\n",
              "      fill: #D2E3FC;\n",
              "    }\n",
              "\n",
              "    [theme=dark] .colab-df-convert:hover {\n",
              "      background-color: #434B5C;\n",
              "      box-shadow: 0px 1px 3px 1px rgba(0, 0, 0, 0.15);\n",
              "      filter: drop-shadow(0px 1px 2px rgba(0, 0, 0, 0.3));\n",
              "      fill: #FFFFFF;\n",
              "    }\n",
              "  </style>\n",
              "\n",
              "      <script>\n",
              "        const buttonEl =\n",
              "          document.querySelector('#df-e6db2e0d-e850-4c74-b214-2de2142256be button.colab-df-convert');\n",
              "        buttonEl.style.display =\n",
              "          google.colab.kernel.accessAllowed ? 'block' : 'none';\n",
              "\n",
              "        async function convertToInteractive(key) {\n",
              "          const element = document.querySelector('#df-e6db2e0d-e850-4c74-b214-2de2142256be');\n",
              "          const dataTable =\n",
              "            await google.colab.kernel.invokeFunction('convertToInteractive',\n",
              "                                                     [key], {});\n",
              "          if (!dataTable) return;\n",
              "\n",
              "          const docLinkHtml = 'Like what you see? Visit the ' +\n",
              "            '<a target=\"_blank\" href=https://colab.research.google.com/notebooks/data_table.ipynb>data table notebook</a>'\n",
              "            + ' to learn more about interactive tables.';\n",
              "          element.innerHTML = '';\n",
              "          dataTable['output_type'] = 'display_data';\n",
              "          await google.colab.output.renderOutput(dataTable, element);\n",
              "          const docLink = document.createElement('div');\n",
              "          docLink.innerHTML = docLinkHtml;\n",
              "          element.appendChild(docLink);\n",
              "        }\n",
              "      </script>\n",
              "    </div>\n",
              "  </div>\n",
              "  "
            ]
          },
          "metadata": {},
          "execution_count": 18
        }
      ]
    },
    {
      "cell_type": "code",
      "source": [
        "# step 2: fill nans with mean"
      ],
      "metadata": {
        "id": "m9V0JW2ydDQu"
      },
      "execution_count": null,
      "outputs": []
    },
    {
      "cell_type": "code",
      "source": [
        "df_nans_filled = df.fillna(df.mean())"
      ],
      "metadata": {
        "id": "fDulTu79pu7F"
      },
      "execution_count": 19,
      "outputs": []
    },
    {
      "cell_type": "code",
      "source": [
        "# step 3: seprate features"
      ],
      "metadata": {
        "id": "850Nd4U7zSHy"
      },
      "execution_count": null,
      "outputs": []
    },
    {
      "cell_type": "code",
      "source": [
        "df_y = df_nans_filled[[\"actual_productivity\"]]\n",
        "df_x = df_nans_filled.drop(labels=[\"actual_productivity\"], axis=1)\n",
        "print(df_x.shape, df_y.shape)"
      ],
      "metadata": {
        "id": "ZK3agSPyQ3pk",
        "colab": {
          "base_uri": "https://localhost:8080/"
        },
        "outputId": "a75ab0bc-8719-4fcf-c28c-37cf8fc86f89"
      },
      "execution_count": 20,
      "outputs": [
        {
          "output_type": "stream",
          "name": "stdout",
          "text": [
            "(1197, 10) (1197, 1)\n"
          ]
        }
      ]
    },
    {
      "cell_type": "code",
      "source": [
        "# step 4: normalize X datas"
      ],
      "metadata": {
        "id": "9d7zQ_AHytPJ"
      },
      "execution_count": null,
      "outputs": []
    },
    {
      "cell_type": "code",
      "source": [
        "from sklearn.preprocessing import StandardScaler\n",
        "\n",
        "scaler = StandardScaler()\n",
        "x_nrm =  scaler.fit_transform(df_x)"
      ],
      "metadata": {
        "id": "yY3R2VvZy6Ow"
      },
      "execution_count": 21,
      "outputs": []
    },
    {
      "cell_type": "code",
      "source": [
        "# step 5: split data to train & test"
      ],
      "metadata": {
        "id": "cEnDWFTr4rMx"
      },
      "execution_count": null,
      "outputs": []
    },
    {
      "cell_type": "code",
      "source": [
        "from sklearn.model_selection  import train_test_split\n",
        "\n",
        "x_train, x_test, y_train, y_test = train_test_split(x_nrm, df_y.values.reshape((-1, )), train_size=0.8)"
      ],
      "metadata": {
        "id": "jJLJe3_i4zZL"
      },
      "execution_count": 22,
      "outputs": []
    },
    {
      "cell_type": "code",
      "source": [
        "# step 6: initialize model callback"
      ],
      "metadata": {
        "id": "zZZzq2_0-rcZ"
      },
      "execution_count": null,
      "outputs": []
    },
    {
      "cell_type": "code",
      "source": [
        "from keras.callbacks import EarlyStopping\n",
        "\n",
        "callBack  = EarlyStopping(patience=5, restore_best_weights=True)"
      ],
      "metadata": {
        "id": "dY15MXhz_Rho"
      },
      "execution_count": 23,
      "outputs": []
    },
    {
      "cell_type": "code",
      "source": [
        "# step 7: define Dense model"
      ],
      "metadata": {
        "id": "joQVEbAp6qXV"
      },
      "execution_count": null,
      "outputs": []
    },
    {
      "cell_type": "code",
      "source": [
        "from keras.models import Sequential\n",
        "from keras.layers import Dense\n",
        "\n",
        "model = Sequential()\n",
        "model.add(Dense(256, activation='relu', input_shape=x_train.shape[1:]))\n",
        "model.add(Dense(128, activation='relu'))\n",
        "model.add(Dense(64, activation='relu'))\n",
        "model.add(Dense(32, activation='relu'))\n",
        "model.add(Dense(1, activation='linear'))\n",
        "\n",
        "model.compile(optimizer='adam', loss='mse', metrics='accuracy')\n",
        "print(model.summary())"
      ],
      "metadata": {
        "colab": {
          "base_uri": "https://localhost:8080/"
        },
        "id": "DSzjeQ9j66UN",
        "outputId": "8c125cfc-0121-40cc-dd7a-a3a71c14d277"
      },
      "execution_count": 68,
      "outputs": [
        {
          "output_type": "stream",
          "name": "stdout",
          "text": [
            "Model: \"sequential_9\"\n",
            "_________________________________________________________________\n",
            " Layer (type)                Output Shape              Param #   \n",
            "=================================================================\n",
            " dense_39 (Dense)            (None, 256)               2816      \n",
            "                                                                 \n",
            " dense_40 (Dense)            (None, 128)               32896     \n",
            "                                                                 \n",
            " dense_41 (Dense)            (None, 64)                8256      \n",
            "                                                                 \n",
            " dense_42 (Dense)            (None, 32)                2080      \n",
            "                                                                 \n",
            " dense_43 (Dense)            (None, 1)                 33        \n",
            "                                                                 \n",
            "=================================================================\n",
            "Total params: 46,081\n",
            "Trainable params: 46,081\n",
            "Non-trainable params: 0\n",
            "_________________________________________________________________\n",
            "None\n"
          ]
        }
      ]
    },
    {
      "cell_type": "code",
      "source": [
        "# step 8: fit model"
      ],
      "metadata": {
        "id": "pciw5P2_8-bF"
      },
      "execution_count": null,
      "outputs": []
    },
    {
      "cell_type": "code",
      "source": [
        "results = model.fit(x_train, y_train, epochs=100, validation_data=(x_test, y_test), callbacks=callBack)"
      ],
      "metadata": {
        "colab": {
          "base_uri": "https://localhost:8080/"
        },
        "id": "cxnx26G4Axkm",
        "outputId": "d1c74044-eb2e-4727-dc53-450fa94e0d44"
      },
      "execution_count": 69,
      "outputs": [
        {
          "output_type": "stream",
          "name": "stdout",
          "text": [
            "Epoch 1/100\n",
            "30/30 [==============================] - 2s 12ms/step - loss: 0.1077 - accuracy: 0.0000e+00 - val_loss: 0.0348 - val_accuracy: 0.0000e+00\n",
            "Epoch 2/100\n",
            "30/30 [==============================] - 0s 6ms/step - loss: 0.0294 - accuracy: 0.0000e+00 - val_loss: 0.0297 - val_accuracy: 0.0000e+00\n",
            "Epoch 3/100\n",
            "30/30 [==============================] - 0s 5ms/step - loss: 0.0243 - accuracy: 0.0000e+00 - val_loss: 0.0273 - val_accuracy: 0.0000e+00\n",
            "Epoch 4/100\n",
            "30/30 [==============================] - 0s 5ms/step - loss: 0.0224 - accuracy: 0.0000e+00 - val_loss: 0.0252 - val_accuracy: 0.0000e+00\n",
            "Epoch 5/100\n",
            "30/30 [==============================] - 0s 5ms/step - loss: 0.0196 - accuracy: 0.0000e+00 - val_loss: 0.0247 - val_accuracy: 0.0000e+00\n",
            "Epoch 6/100\n",
            "30/30 [==============================] - 0s 3ms/step - loss: 0.0187 - accuracy: 0.0000e+00 - val_loss: 0.0240 - val_accuracy: 0.0000e+00\n",
            "Epoch 7/100\n",
            "30/30 [==============================] - 0s 4ms/step - loss: 0.0193 - accuracy: 0.0000e+00 - val_loss: 0.0262 - val_accuracy: 0.0000e+00\n",
            "Epoch 8/100\n",
            "30/30 [==============================] - 0s 4ms/step - loss: 0.0176 - accuracy: 0.0000e+00 - val_loss: 0.0225 - val_accuracy: 0.0000e+00\n",
            "Epoch 9/100\n",
            "30/30 [==============================] - 0s 4ms/step - loss: 0.0165 - accuracy: 0.0000e+00 - val_loss: 0.0222 - val_accuracy: 0.0000e+00\n",
            "Epoch 10/100\n",
            "30/30 [==============================] - 0s 4ms/step - loss: 0.0166 - accuracy: 0.0000e+00 - val_loss: 0.0231 - val_accuracy: 0.0000e+00\n",
            "Epoch 11/100\n",
            "30/30 [==============================] - 0s 4ms/step - loss: 0.0164 - accuracy: 0.0000e+00 - val_loss: 0.0223 - val_accuracy: 0.0000e+00\n",
            "Epoch 12/100\n",
            "30/30 [==============================] - 0s 4ms/step - loss: 0.0165 - accuracy: 0.0000e+00 - val_loss: 0.0234 - val_accuracy: 0.0000e+00\n",
            "Epoch 13/100\n",
            "30/30 [==============================] - 0s 4ms/step - loss: 0.0159 - accuracy: 0.0000e+00 - val_loss: 0.0225 - val_accuracy: 0.0000e+00\n",
            "Epoch 14/100\n",
            "30/30 [==============================] - 0s 4ms/step - loss: 0.0165 - accuracy: 0.0000e+00 - val_loss: 0.0229 - val_accuracy: 0.0000e+00\n"
          ]
        }
      ]
    },
    {
      "cell_type": "code",
      "source": [
        "# step 9: prediction"
      ],
      "metadata": {
        "id": "u8UAXdujPOmG"
      },
      "execution_count": null,
      "outputs": []
    },
    {
      "cell_type": "code",
      "source": [
        "yhat_test = model.predict(x_test)"
      ],
      "metadata": {
        "colab": {
          "base_uri": "https://localhost:8080/"
        },
        "id": "RHxA6UGFPUM0",
        "outputId": "82cd0041-2ddb-44ba-dd62-64ac916b92d2"
      },
      "execution_count": 70,
      "outputs": [
        {
          "output_type": "stream",
          "name": "stdout",
          "text": [
            "8/8 [==============================] - 0s 2ms/step\n"
          ]
        }
      ]
    },
    {
      "cell_type": "code",
      "source": [
        "import matplotlib.pyplot as plt\n",
        "\n",
        "yhat_test = np.reshape(yhat_test, y_test.shape)\n",
        "plt.scatter(y_test, yhat_test)"
      ],
      "metadata": {
        "colab": {
          "base_uri": "https://localhost:8080/",
          "height": 447
        },
        "id": "5rd_Zh62PnPt",
        "outputId": "8e699b89-0ed8-4150-a1be-8f2fe51e6de8"
      },
      "execution_count": 71,
      "outputs": [
        {
          "output_type": "execute_result",
          "data": {
            "text/plain": [
              "<matplotlib.collections.PathCollection at 0x7fc1100ffa30>"
            ]
          },
          "metadata": {},
          "execution_count": 71
        },
        {
          "output_type": "display_data",
          "data": {
            "text/plain": [
              "<Figure size 640x480 with 1 Axes>"
            ],
            "image/png": "[encoded data removed]"
          },
          "metadata": {}
        }
      ]
    },
    {
      "cell_type": "code",
      "source": [
        "plt.plot(results.history['loss'], label='train')\n",
        "plt.plot(results.history['val_loss'], label='test')\n",
        "plt.legend()"
      ],
      "metadata": {
        "colab": {
          "base_uri": "https://localhost:8080/",
          "height": 447
        },
        "id": "5iKo1nABToHN",
        "outputId": "a21b06e1-8bc9-4508-ff41-94cd414bc2f3"
      },
      "execution_count": 72,
      "outputs": [
        {
          "output_type": "execute_result",
          "data": {
            "text/plain": [
              "<matplotlib.legend.Legend at 0x7fc11019e860>"
            ]
          },
          "metadata": {},
          "execution_count": 72
        },
        {
          "output_type": "display_data",
          "data": {
            "text/plain": [
              "<Figure size 640x480 with 1 Axes>"
            ],
            "image/png": "[encoded data removed]"
          },
          "metadata": {}
        }
      ]
    },
    {
      "cell_type": "code",
      "source": [
        "model_2 = Sequential()\n",
        "model_2.add(Dense(128, activation='relu', input_shape=x_train.shape[1:]))\n",
        "model_2.add(Dense(64, activation='relu'))\n",
        "model_2.add(Dense(32, activation='relu'))\n",
        "model_2.add(Dense(1, activation='linear'))\n",
        "\n",
        "model_2.compile(optimizer='adam', loss='mse', metrics='accuracy')\n",
        "\n",
        "results_2 = model_2.fit(x_train, y_train, epochs=100, batch_size=64, validation_data=(x_test, y_test), callbacks=callBack)"
      ],
      "metadata": {
        "colab": {
          "base_uri": "https://localhost:8080/"
        },
        "id": "g9CBnhHOVjFk",
        "outputId": "ba63530b-7b0a-42ac-a0c3-ea76e2440571"
      },
      "execution_count": 64,
      "outputs": [
        {
          "output_type": "stream",
          "name": "stdout",
          "text": [
            "Epoch 1/100\n",
            "15/15 [==============================] - 2s 30ms/step - loss: 0.2816 - accuracy: 0.0000e+00 - val_loss: 0.0723 - val_accuracy: 0.0000e+00\n",
            "Epoch 2/100\n",
            "15/15 [==============================] - 0s 6ms/step - loss: 0.0533 - accuracy: 0.0000e+00 - val_loss: 0.0378 - val_accuracy: 0.0000e+00\n",
            "Epoch 3/100\n",
            "15/15 [==============================] - 0s 4ms/step - loss: 0.0316 - accuracy: 0.0000e+00 - val_loss: 0.0322 - val_accuracy: 0.0000e+00\n",
            "Epoch 4/100\n",
            "15/15 [==============================] - 0s 4ms/step - loss: 0.0280 - accuracy: 0.0000e+00 - val_loss: 0.0303 - val_accuracy: 0.0000e+00\n",
            "Epoch 5/100\n",
            "15/15 [==============================] - 0s 4ms/step - loss: 0.0245 - accuracy: 0.0000e+00 - val_loss: 0.0282 - val_accuracy: 0.0000e+00\n",
            "Epoch 6/100\n",
            "15/15 [==============================] - 0s 5ms/step - loss: 0.0230 - accuracy: 0.0000e+00 - val_loss: 0.0271 - val_accuracy: 0.0000e+00\n",
            "Epoch 7/100\n",
            "15/15 [==============================] - 0s 5ms/step - loss: 0.0218 - accuracy: 0.0000e+00 - val_loss: 0.0266 - val_accuracy: 0.0000e+00\n",
            "Epoch 8/100\n",
            "15/15 [==============================] - 0s 5ms/step - loss: 0.0206 - accuracy: 0.0000e+00 - val_loss: 0.0252 - val_accuracy: 0.0000e+00\n",
            "Epoch 9/100\n",
            "15/15 [==============================] - 0s 4ms/step - loss: 0.0197 - accuracy: 0.0000e+00 - val_loss: 0.0247 - val_accuracy: 0.0000e+00\n",
            "Epoch 10/100\n",
            "15/15 [==============================] - 0s 5ms/step - loss: 0.0190 - accuracy: 0.0000e+00 - val_loss: 0.0240 - val_accuracy: 0.0000e+00\n",
            "Epoch 11/100\n",
            "15/15 [==============================] - 0s 5ms/step - loss: 0.0184 - accuracy: 0.0000e+00 - val_loss: 0.0237 - val_accuracy: 0.0000e+00\n",
            "Epoch 12/100\n",
            "15/15 [==============================] - 0s 6ms/step - loss: 0.0177 - accuracy: 0.0000e+00 - val_loss: 0.0231 - val_accuracy: 0.0000e+00\n",
            "Epoch 13/100\n",
            "15/15 [==============================] - 0s 5ms/step - loss: 0.0176 - accuracy: 0.0000e+00 - val_loss: 0.0228 - val_accuracy: 0.0000e+00\n",
            "Epoch 14/100\n",
            "15/15 [==============================] - 0s 5ms/step - loss: 0.0170 - accuracy: 0.0000e+00 - val_loss: 0.0228 - val_accuracy: 0.0000e+00\n",
            "Epoch 15/100\n",
            "15/15 [==============================] - 0s 4ms/step - loss: 0.0172 - accuracy: 0.0000e+00 - val_loss: 0.0233 - val_accuracy: 0.0000e+00\n",
            "Epoch 16/100\n",
            "15/15 [==============================] - 0s 5ms/step - loss: 0.0168 - accuracy: 0.0000e+00 - val_loss: 0.0229 - val_accuracy: 0.0000e+00\n",
            "Epoch 17/100\n",
            "15/15 [==============================] - 0s 4ms/step - loss: 0.0164 - accuracy: 0.0000e+00 - val_loss: 0.0219 - val_accuracy: 0.0000e+00\n",
            "Epoch 18/100\n",
            "15/15 [==============================] - 0s 4ms/step - loss: 0.0160 - accuracy: 0.0000e+00 - val_loss: 0.0225 - val_accuracy: 0.0000e+00\n",
            "Epoch 19/100\n",
            "15/15 [==============================] - 0s 4ms/step - loss: 0.0160 - accuracy: 0.0000e+00 - val_loss: 0.0214 - val_accuracy: 0.0000e+00\n",
            "Epoch 20/100\n",
            "15/15 [==============================] - 0s 4ms/step - loss: 0.0157 - accuracy: 0.0000e+00 - val_loss: 0.0217 - val_accuracy: 0.0000e+00\n",
            "Epoch 21/100\n",
            "15/15 [==============================] - 0s 5ms/step - loss: 0.0155 - accuracy: 0.0000e+00 - val_loss: 0.0214 - val_accuracy: 0.0000e+00\n",
            "Epoch 22/100\n",
            "15/15 [==============================] - 0s 4ms/step - loss: 0.0152 - accuracy: 0.0000e+00 - val_loss: 0.0227 - val_accuracy: 0.0000e+00\n",
            "Epoch 23/100\n",
            "15/15 [==============================] - 0s 4ms/step - loss: 0.0161 - accuracy: 0.0000e+00 - val_loss: 0.0213 - val_accuracy: 0.0000e+00\n",
            "Epoch 24/100\n",
            "15/15 [==============================] - 0s 5ms/step - loss: 0.0152 - accuracy: 0.0000e+00 - val_loss: 0.0211 - val_accuracy: 0.0000e+00\n",
            "Epoch 25/100\n",
            "15/15 [==============================] - 0s 5ms/step - loss: 0.0151 - accuracy: 0.0000e+00 - val_loss: 0.0213 - val_accuracy: 0.0000e+00\n",
            "Epoch 26/100\n",
            "15/15 [==============================] - 0s 4ms/step - loss: 0.0154 - accuracy: 0.0000e+00 - val_loss: 0.0220 - val_accuracy: 0.0000e+00\n",
            "Epoch 27/100\n",
            "15/15 [==============================] - 0s 5ms/step - loss: 0.0150 - accuracy: 0.0000e+00 - val_loss: 0.0221 - val_accuracy: 0.0000e+00\n",
            "Epoch 28/100\n",
            "15/15 [==============================] - 0s 4ms/step - loss: 0.0144 - accuracy: 0.0000e+00 - val_loss: 0.0208 - val_accuracy: 0.0000e+00\n",
            "Epoch 29/100\n",
            "15/15 [==============================] - 0s 4ms/step - loss: 0.0145 - accuracy: 0.0000e+00 - val_loss: 0.0210 - val_accuracy: 0.0000e+00\n",
            "Epoch 30/100\n",
            "15/15 [==============================] - 0s 5ms/step - loss: 0.0145 - accuracy: 0.0000e+00 - val_loss: 0.0214 - val_accuracy: 0.0000e+00\n",
            "Epoch 31/100\n",
            "15/15 [==============================] - 0s 5ms/step - loss: 0.0140 - accuracy: 0.0000e+00 - val_loss: 0.0209 - val_accuracy: 0.0000e+00\n",
            "Epoch 32/100\n",
            "15/15 [==============================] - 0s 5ms/step - loss: 0.0144 - accuracy: 0.0000e+00 - val_loss: 0.0208 - val_accuracy: 0.0000e+00\n",
            "Epoch 33/100\n",
            "15/15 [==============================] - 0s 4ms/step - loss: 0.0139 - accuracy: 0.0000e+00 - val_loss: 0.0209 - val_accuracy: 0.0000e+00\n",
            "Epoch 34/100\n",
            "15/15 [==============================] - 0s 4ms/step - loss: 0.0140 - accuracy: 0.0000e+00 - val_loss: 0.0204 - val_accuracy: 0.0000e+00\n",
            "Epoch 35/100\n",
            "15/15 [==============================] - 0s 4ms/step - loss: 0.0137 - accuracy: 0.0000e+00 - val_loss: 0.0214 - val_accuracy: 0.0000e+00\n",
            "Epoch 36/100\n",
            "15/15 [==============================] - 0s 4ms/step - loss: 0.0143 - accuracy: 0.0000e+00 - val_loss: 0.0211 - val_accuracy: 0.0000e+00\n",
            "Epoch 37/100\n",
            "15/15 [==============================] - 0s 5ms/step - loss: 0.0143 - accuracy: 0.0000e+00 - val_loss: 0.0205 - val_accuracy: 0.0000e+00\n",
            "Epoch 38/100\n",
            "15/15 [==============================] - 0s 4ms/step - loss: 0.0141 - accuracy: 0.0000e+00 - val_loss: 0.0212 - val_accuracy: 0.0000e+00\n",
            "Epoch 39/100\n",
            "15/15 [==============================] - 0s 4ms/step - loss: 0.0139 - accuracy: 0.0000e+00 - val_loss: 0.0201 - val_accuracy: 0.0000e+00\n",
            "Epoch 40/100\n",
            "15/15 [==============================] - 0s 4ms/step - loss: 0.0138 - accuracy: 0.0000e+00 - val_loss: 0.0209 - val_accuracy: 0.0000e+00\n",
            "Epoch 41/100\n",
            "15/15 [==============================] - 0s 5ms/step - loss: 0.0139 - accuracy: 0.0000e+00 - val_loss: 0.0209 - val_accuracy: 0.0000e+00\n",
            "Epoch 42/100\n",
            "15/15 [==============================] - 0s 6ms/step - loss: 0.0140 - accuracy: 0.0000e+00 - val_loss: 0.0219 - val_accuracy: 0.0000e+00\n",
            "Epoch 43/100\n",
            "15/15 [==============================] - 0s 7ms/step - loss: 0.0137 - accuracy: 0.0000e+00 - val_loss: 0.0203 - val_accuracy: 0.0000e+00\n",
            "Epoch 44/100\n",
            "15/15 [==============================] - 0s 6ms/step - loss: 0.0137 - accuracy: 0.0000e+00 - val_loss: 0.0209 - val_accuracy: 0.0000e+00\n"
          ]
        }
      ]
    },
    {
      "cell_type": "code",
      "source": [
        "yhat_test_2 = model_2.predict(x_test)"
      ],
      "metadata": {
        "colab": {
          "base_uri": "https://localhost:8080/"
        },
        "id": "r4QWzeHbXYxn",
        "outputId": "ec0558aa-609f-4fe1-e3d3-5f6e5d86c633"
      },
      "execution_count": 65,
      "outputs": [
        {
          "output_type": "stream",
          "name": "stdout",
          "text": [
            "8/8 [==============================] - 0s 2ms/step\n"
          ]
        }
      ]
    },
    {
      "cell_type": "code",
      "source": [
        "yhat_test_2 = np.reshape(yhat_test_2, y_test.shape)\n",
        "plt.scatter(y_test, yhat_test_2)"
      ],
      "metadata": {
        "colab": {
          "base_uri": "https://localhost:8080/",
          "height": 447
        },
        "id": "AJKzAdjnX73N",
        "outputId": "77fc786a-befd-4f4a-b585-b6659ead311d"
      },
      "execution_count": 66,
      "outputs": [
        {
          "output_type": "execute_result",
          "data": {
            "text/plain": [
              "<matplotlib.collections.PathCollection at 0x7fc110c17ca0>"
            ]
          },
          "metadata": {},
          "execution_count": 66
        },
        {
          "output_type": "display_data",
          "data": {
            "text/plain": [
              "<Figure size 640x480 with 1 Axes>"
            ],
            "image/png": "[encoded data removed]"
          },
          "metadata": {}
        }
      ]
    },
    {
      "cell_type": "code",
      "source": [
        "plt.plot(results_2.history['loss'], label='train')\n",
        "plt.plot(results_2.history['val_loss'], label='test')\n",
        "plt.legend()"
      ],
      "metadata": {
        "colab": {
          "base_uri": "https://localhost:8080/",
          "height": 447
        },
        "id": "zlKce59YYFt0",
        "outputId": "04cf132d-158d-42f6-fbc5-e2ac2df9f88e"
      },
      "execution_count": 67,
      "outputs": [
        {
          "output_type": "execute_result",
          "data": {
            "text/plain": [
              "<matplotlib.legend.Legend at 0x7fc110c6afb0>"
            ]
          },
          "metadata": {},
          "execution_count": 67
        },
        {
          "output_type": "display_data",
          "data": {
            "text/plain": [
              "<Figure size 640x480 with 1 Axes>"
            ],
            "image/png": "[encoded data removed]"
          },
          "metadata": {}
        }
      ]
    },
    {
      "cell_type": "code",
      "source": [
        "from keras.optimizers import RMSprop\n",
        "from keras.layers import LeakyReLU\n",
        "\n",
        "model_3 = Sequential()\n",
        "model_3.add(Dense(128, activation='relu', input_shape=x_train.shape[1:]))\n",
        "model_3.add(Dense(64))\n",
        "model_3.add(LeakyReLU(alpha=0.1))\n",
        "model_3.add(Dense(32))\n",
        "model_3.add(LeakyReLU(alpha=0.1))\n",
        "model_3.add(Dense(1, activation='linear'))\n",
        "\n",
        "model_3.compile(optimizer=RMSprop(lr=0.001), loss='mse', metrics='accuracy')\n",
        "\n",
        "results_3 = model_3.fit(x_train, y_train, epochs=100, batch_size=16, validation_data=(x_test, y_test), callbacks=callBack)"
      ],
      "metadata": {
        "colab": {
          "base_uri": "https://localhost:8080/"
        },
        "id": "elMD_LM_YQKf",
        "outputId": "e28a9eb2-00fc-4392-d398-610a58acfdcb"
      },
      "execution_count": 74,
      "outputs": [
        {
          "output_type": "stream",
          "name": "stdout",
          "text": [
            "Epoch 1/100\n"
          ]
        },
        {
          "output_type": "stream",
          "name": "stderr",
          "text": [
            "/usr/local/lib/python3.10/dist-packages/keras/optimizers/legacy/rmsprop.py:143: UserWarning: The `lr` argument is deprecated, use `learning_rate` instead.\n",
            "  super().__init__(name, **kwargs)\n"
          ]
        },
        {
          "output_type": "stream",
          "name": "stdout",
          "text": [
            "60/60 [==============================] - 1s 5ms/step - loss: 0.1022 - accuracy: 0.0000e+00 - val_loss: 0.0344 - val_accuracy: 0.0000e+00\n",
            "Epoch 2/100\n",
            "60/60 [==============================] - 0s 3ms/step - loss: 0.0295 - accuracy: 0.0000e+00 - val_loss: 0.0332 - val_accuracy: 0.0000e+00\n",
            "Epoch 3/100\n",
            "60/60 [==============================] - 0s 2ms/step - loss: 0.0257 - accuracy: 0.0000e+00 - val_loss: 0.0283 - val_accuracy: 0.0000e+00\n",
            "Epoch 4/100\n",
            "60/60 [==============================] - 0s 2ms/step - loss: 0.0250 - accuracy: 0.0000e+00 - val_loss: 0.0241 - val_accuracy: 0.0000e+00\n",
            "Epoch 5/100\n",
            "60/60 [==============================] - 0s 2ms/step - loss: 0.0233 - accuracy: 0.0000e+00 - val_loss: 0.0322 - val_accuracy: 0.0000e+00\n",
            "Epoch 6/100\n",
            "60/60 [==============================] - 0s 2ms/step - loss: 0.0199 - accuracy: 0.0000e+00 - val_loss: 0.0265 - val_accuracy: 0.0000e+00\n",
            "Epoch 7/100\n",
            "60/60 [==============================] - 0s 2ms/step - loss: 0.0195 - accuracy: 0.0000e+00 - val_loss: 0.0224 - val_accuracy: 0.0000e+00\n",
            "Epoch 8/100\n",
            "60/60 [==============================] - 0s 2ms/step - loss: 0.0197 - accuracy: 0.0000e+00 - val_loss: 0.0224 - val_accuracy: 0.0000e+00\n",
            "Epoch 9/100\n",
            "60/60 [==============================] - 0s 2ms/step - loss: 0.0195 - accuracy: 0.0000e+00 - val_loss: 0.0213 - val_accuracy: 0.0000e+00\n",
            "Epoch 10/100\n",
            "60/60 [==============================] - 0s 2ms/step - loss: 0.0196 - accuracy: 0.0000e+00 - val_loss: 0.0218 - val_accuracy: 0.0000e+00\n",
            "Epoch 11/100\n",
            "60/60 [==============================] - 0s 2ms/step - loss: 0.0175 - accuracy: 0.0000e+00 - val_loss: 0.0221 - val_accuracy: 0.0000e+00\n",
            "Epoch 12/100\n",
            "60/60 [==============================] - 0s 2ms/step - loss: 0.0176 - accuracy: 0.0000e+00 - val_loss: 0.0263 - val_accuracy: 0.0000e+00\n",
            "Epoch 13/100\n",
            "60/60 [==============================] - 0s 2ms/step - loss: 0.0177 - accuracy: 0.0000e+00 - val_loss: 0.0233 - val_accuracy: 0.0000e+00\n",
            "Epoch 14/100\n",
            "60/60 [==============================] - 0s 2ms/step - loss: 0.0189 - accuracy: 0.0000e+00 - val_loss: 0.0231 - val_accuracy: 0.0000e+00\n"
          ]
        }
      ]
    },
    {
      "cell_type": "code",
      "source": [
        "yhat_test_3 = model_3.predict(x_test)"
      ],
      "metadata": {
        "colab": {
          "base_uri": "https://localhost:8080/"
        },
        "id": "BkyPrfxOkGPJ",
        "outputId": "910f6e5b-dc81-4b67-b2c7-d623260ea508"
      },
      "execution_count": 75,
      "outputs": [
        {
          "output_type": "stream",
          "name": "stdout",
          "text": [
            "8/8 [==============================] - 0s 3ms/step\n"
          ]
        }
      ]
    },
    {
      "cell_type": "code",
      "source": [
        "yhat_test_3 = np.reshape(yhat_test_3, y_test.shape)\n",
        "plt.scatter(y_test, yhat_test_3)"
      ],
      "metadata": {
        "colab": {
          "base_uri": "https://localhost:8080/",
          "height": 448
        },
        "id": "-ExKEpDTZuPJ",
        "outputId": "32fa6ac4-6ee5-4e06-94bd-067120bc662e"
      },
      "execution_count": 76,
      "outputs": [
        {
          "output_type": "execute_result",
          "data": {
            "text/plain": [
              "<matplotlib.collections.PathCollection at 0x7fc10fe911e0>"
            ]
          },
          "metadata": {},
          "execution_count": 76
        },
        {
          "output_type": "display_data",
          "data": {
            "text/plain": [
              "<Figure size 640x480 with 1 Axes>"
            ],
            "image/png": "[encoded data removed]"
          },
          "metadata": {}
        }
      ]
    },
    {
      "cell_type": "code",
      "source": [
        "plt.plot(results_3.history['loss'], label='train')\n",
        "plt.plot(results_3.history['val_loss'], label='test')\n",
        "plt.legend()"
      ],
      "metadata": {
        "colab": {
          "base_uri": "https://localhost:8080/",
          "height": 447
        },
        "id": "4DhvX-UQZ0Wn",
        "outputId": "df39b2f7-6f1d-4b58-c955-716effa5e789"
      },
      "execution_count": 77,
      "outputs": [
        {
          "output_type": "execute_result",
          "data": {
            "text/plain": [
              "<matplotlib.legend.Legend at 0x7fc11009f490>"
            ]
          },
          "metadata": {},
          "execution_count": 77
        },
        {
          "output_type": "display_data",
          "data": {
            "text/plain": [
              "<Figure size 640x480 with 1 Axes>"
            ],
            "image/png": "[encoded data removed]"
          },
          "metadata": {}
        }
      ]
    },
    {
      "cell_type": "code",
      "source": [
        "model_4 = Sequential()\n",
        "model_4.add(Dense(64, activation='relu', input_shape=x_train.shape[1:]))\n",
        "model_4.add(Dense(32, activation='tanh'))\n",
        "model_4.add(Dense(16, activation='tanh'))\n",
        "model_4.add(Dense(8, activation='tanh'))\n",
        "model_4.add(Dense(1, activation='linear'))\n",
        "\n",
        "model_4.compile(optimizer='adam', loss='mse', metrics='accuracy')\n",
        "\n",
        "results_4 = model_4.fit(x_train, y_train, epochs=100, validation_data=(x_test, y_test), callbacks=callBack)\n",
        "\n",
        "yhat_test_4 = model_4.predict(x_test)\n",
        "\n",
        "yhat_test_4 = np.reshape(yhat_test_4, y_test.shape)\n",
        "plt.scatter(y_test, yhat_test_4)"
      ],
      "metadata": {
        "colab": {
          "base_uri": "https://localhost:8080/",
          "height": 1000
        },
        "id": "jDPLFwN1aE1P",
        "outputId": "d4ccf5fd-bb6c-4b64-c101-bf21496bbe38"
      },
      "execution_count": 61,
      "outputs": [
        {
          "output_type": "stream",
          "name": "stdout",
          "text": [
            "Epoch 1/100\n",
            "30/30 [==============================] - 2s 8ms/step - loss: 0.1198 - accuracy: 0.0000e+00 - val_loss: 0.0296 - val_accuracy: 0.0000e+00\n",
            "Epoch 2/100\n",
            "30/30 [==============================] - 0s 4ms/step - loss: 0.0278 - accuracy: 0.0000e+00 - val_loss: 0.0253 - val_accuracy: 0.0000e+00\n",
            "Epoch 3/100\n",
            "30/30 [==============================] - 0s 3ms/step - loss: 0.0230 - accuracy: 0.0000e+00 - val_loss: 0.0236 - val_accuracy: 0.0000e+00\n",
            "Epoch 4/100\n",
            "30/30 [==============================] - 0s 3ms/step - loss: 0.0213 - accuracy: 0.0000e+00 - val_loss: 0.0230 - val_accuracy: 0.0000e+00\n",
            "Epoch 5/100\n",
            "30/30 [==============================] - 0s 3ms/step - loss: 0.0205 - accuracy: 0.0000e+00 - val_loss: 0.0231 - val_accuracy: 0.0000e+00\n",
            "Epoch 6/100\n",
            "30/30 [==============================] - 0s 3ms/step - loss: 0.0198 - accuracy: 0.0000e+00 - val_loss: 0.0221 - val_accuracy: 0.0000e+00\n",
            "Epoch 7/100\n",
            "30/30 [==============================] - 0s 3ms/step - loss: 0.0190 - accuracy: 0.0000e+00 - val_loss: 0.0213 - val_accuracy: 0.0000e+00\n",
            "Epoch 8/100\n",
            "30/30 [==============================] - 0s 3ms/step - loss: 0.0187 - accuracy: 0.0000e+00 - val_loss: 0.0221 - val_accuracy: 0.0000e+00\n",
            "Epoch 9/100\n",
            "30/30 [==============================] - 0s 3ms/step - loss: 0.0182 - accuracy: 0.0000e+00 - val_loss: 0.0215 - val_accuracy: 0.0000e+00\n",
            "Epoch 10/100\n",
            "30/30 [==============================] - 0s 4ms/step - loss: 0.0180 - accuracy: 0.0000e+00 - val_loss: 0.0209 - val_accuracy: 0.0000e+00\n",
            "Epoch 11/100\n",
            "30/30 [==============================] - 0s 3ms/step - loss: 0.0175 - accuracy: 0.0000e+00 - val_loss: 0.0201 - val_accuracy: 0.0000e+00\n",
            "Epoch 12/100\n",
            "30/30 [==============================] - 0s 3ms/step - loss: 0.0174 - accuracy: 0.0000e+00 - val_loss: 0.0201 - val_accuracy: 0.0000e+00\n",
            "Epoch 13/100\n",
            "30/30 [==============================] - 0s 3ms/step - loss: 0.0169 - accuracy: 0.0000e+00 - val_loss: 0.0203 - val_accuracy: 0.0000e+00\n",
            "Epoch 14/100\n",
            "30/30 [==============================] - 0s 3ms/step - loss: 0.0169 - accuracy: 0.0000e+00 - val_loss: 0.0203 - val_accuracy: 0.0000e+00\n",
            "Epoch 15/100\n",
            "30/30 [==============================] - 0s 3ms/step - loss: 0.0176 - accuracy: 0.0000e+00 - val_loss: 0.0210 - val_accuracy: 0.0000e+00\n",
            "Epoch 16/100\n",
            "30/30 [==============================] - 0s 3ms/step - loss: 0.0171 - accuracy: 0.0000e+00 - val_loss: 0.0201 - val_accuracy: 0.0000e+00\n",
            "Epoch 17/100\n",
            "30/30 [==============================] - 0s 3ms/step - loss: 0.0165 - accuracy: 0.0000e+00 - val_loss: 0.0203 - val_accuracy: 0.0000e+00\n",
            "Epoch 18/100\n",
            "30/30 [==============================] - 0s 3ms/step - loss: 0.0166 - accuracy: 0.0000e+00 - val_loss: 0.0204 - val_accuracy: 0.0000e+00\n",
            "Epoch 19/100\n",
            "30/30 [==============================] - 0s 3ms/step - loss: 0.0163 - accuracy: 0.0000e+00 - val_loss: 0.0200 - val_accuracy: 0.0000e+00\n",
            "Epoch 20/100\n",
            "30/30 [==============================] - 0s 3ms/step - loss: 0.0163 - accuracy: 0.0000e+00 - val_loss: 0.0199 - val_accuracy: 0.0000e+00\n",
            "Epoch 21/100\n",
            "30/30 [==============================] - 0s 3ms/step - loss: 0.0158 - accuracy: 0.0000e+00 - val_loss: 0.0200 - val_accuracy: 0.0000e+00\n",
            "Epoch 22/100\n",
            "30/30 [==============================] - 0s 4ms/step - loss: 0.0159 - accuracy: 0.0000e+00 - val_loss: 0.0201 - val_accuracy: 0.0000e+00\n",
            "Epoch 23/100\n",
            "30/30 [==============================] - 0s 3ms/step - loss: 0.0157 - accuracy: 0.0000e+00 - val_loss: 0.0197 - val_accuracy: 0.0000e+00\n",
            "Epoch 24/100\n",
            "30/30 [==============================] - 0s 3ms/step - loss: 0.0158 - accuracy: 0.0000e+00 - val_loss: 0.0204 - val_accuracy: 0.0000e+00\n",
            "Epoch 25/100\n",
            "30/30 [==============================] - 0s 3ms/step - loss: 0.0159 - accuracy: 0.0000e+00 - val_loss: 0.0202 - val_accuracy: 0.0000e+00\n",
            "Epoch 26/100\n",
            "30/30 [==============================] - 0s 3ms/step - loss: 0.0155 - accuracy: 0.0000e+00 - val_loss: 0.0207 - val_accuracy: 0.0000e+00\n",
            "Epoch 27/100\n",
            "30/30 [==============================] - 0s 3ms/step - loss: 0.0153 - accuracy: 0.0000e+00 - val_loss: 0.0208 - val_accuracy: 0.0000e+00\n",
            "Epoch 28/100\n",
            "30/30 [==============================] - 0s 4ms/step - loss: 0.0154 - accuracy: 0.0000e+00 - val_loss: 0.0207 - val_accuracy: 0.0000e+00\n",
            "8/8 [==============================] - 0s 2ms/step\n"
          ]
        },
        {
          "output_type": "execute_result",
          "data": {
            "text/plain": [
              "<matplotlib.collections.PathCollection at 0x7fc1207c3eb0>"
            ]
          },
          "metadata": {},
          "execution_count": 61
        },
        {
          "output_type": "display_data",
          "data": {
            "text/plain": [
              "<Figure size 640x480 with 1 Axes>"
            ],
            "image/png": "[encoded data removed]"
          },
          "metadata": {}
        }
      ]
    },
    {
      "cell_type": "code",
      "source": [
        "plt.plot(results_4.history['loss'], label='train')\n",
        "plt.plot(results_4.history['val_loss'], label='test')\n",
        "plt.legend()"
      ],
      "metadata": {
        "colab": {
          "base_uri": "https://localhost:8080/",
          "height": 447
        },
        "id": "nwzKR98obHNc",
        "outputId": "afdedd90-00c9-4dcf-b744-bb5d092edfaa"
      },
      "execution_count": 59,
      "outputs": [
        {
          "output_type": "execute_result",
          "data": {
            "text/plain": [
              "<matplotlib.legend.Legend at 0x7fc10dd40520>"
            ]
          },
          "metadata": {},
          "execution_count": 59
        },
        {
          "output_type": "display_data",
          "data": {
            "text/plain": [
              "<Figure size 640x480 with 1 Axes>"
            ],
            "image/png": "[encoded data removed]"
          },
          "metadata": {}
        }
      ]
    },
    {
      "cell_type": "code",
      "source": [
        "print(yhat_test_4)\n",
        "print(y_test)"
      ],
      "metadata": {
        "colab": {
          "base_uri": "https://localhost:8080/"
        },
        "id": "IgwM-FDDbJTE",
        "outputId": "92891f09-cd60-4617-a260-11e3938b993c"
      },
      "execution_count": 63,
      "outputs": [
        {
          "output_type": "stream",
          "name": "stdout",
          "text": [
            "[0.6806088  0.821577   0.89915127 0.89323395 0.7701392  0.5711778\n",
            " 0.9547005  0.65030664 0.7064654  0.6354277  0.72418976 0.6659658\n",
            " 0.68526995 0.7166018  0.7048659  0.6697174  0.79440516 0.6806088\n",
            " 0.7410448  0.74140126 0.72095    0.78886884 0.60619676 0.5807109\n",
            " 0.6697174  0.67678523 0.81834215 0.748236   0.7893913  0.77937466\n",
            " 0.6941191  0.77564865 0.6015436  0.7925908  0.742923   0.65833265\n",
            " 0.8667559  0.7255299  0.68441653 0.73740816 0.64903647 0.7318023\n",
            " 0.778675   0.81296426 0.7893913  0.7568945  1.0071208  0.8040069\n",
            " 0.7763946  0.8595941  0.6199244  0.68264216 0.8212468  0.86234117\n",
            " 0.8311635  0.81468934 0.6952439  0.66753286 0.71186924 0.69932467\n",
            " 0.89323395 0.735127   0.6956709  0.50699526 0.96685433 0.76988417\n",
            " 0.38271275 0.9843001  0.8331029  0.6974486  0.47140756 0.8819069\n",
            " 0.7650487  0.81799674 0.79016376 0.831418   0.7662913  0.7629564\n",
            " 0.65908265 0.7604495  0.75196296 0.7243763  0.7143879  0.735127\n",
            " 0.96824425 0.7561254  0.6384266  0.80790865 0.7624957  0.77802444\n",
            " 0.7469701  0.7820341  0.73211145 0.736348   0.823347   0.8407884\n",
            " 0.68303007 0.5436038  0.79112333 0.93598026 0.6469843  0.81620604\n",
            " 0.7100864  0.38197592 0.6573034  0.75702196 0.82582265 0.7510819\n",
            " 0.59474504 0.76840824 0.97031385 0.76144147 0.79916745 0.7303484\n",
            " 0.8230182  0.7894533  0.68085    0.76520675 0.65396947 0.77676576\n",
            " 0.6752548  0.7845584  0.5005802  0.8904168  0.7100212  0.62078583\n",
            " 0.76984364 0.75702196 0.8084324  0.72418976 0.6617592  0.73302156\n",
            " 0.7337983  0.6066485  0.7294866  0.57000285 0.8531702  0.56618106\n",
            " 0.5817856  0.78404224 0.7953645  0.6563089  0.7854282  0.6917153\n",
            " 0.62375575 0.8309142  0.6968484  0.7925908  0.78531575 0.6005046\n",
            " 0.7625927  0.44274363 0.7661757  0.9626802  0.5889284  0.7418755\n",
            " 0.8664846  0.78590745 0.78109634 0.8781727  0.8500939  0.7199487\n",
            " 0.6806088  0.59090203 0.81075054 0.7070113  0.64004916 0.7950377\n",
            " 0.5850174  0.75170344 0.6666942  0.7166018  0.81694406 0.6832899\n",
            " 0.5453148  0.75311226 0.6486178  0.78089494 0.73254377 0.6952439\n",
            " 0.74140126 0.7918561  0.72418976 0.6952439  0.5005847  0.8530459\n",
            " 1.0255063  0.3280649  0.87145084 0.86497504 0.6655814  0.6672752\n",
            " 0.73740816 0.7225355  0.6759994  0.66379493 0.53798896 0.814249\n",
            " 0.8035229  0.65838945 0.5749224  0.63683397 0.6660329  0.7735804\n",
            " 0.5840983  0.6946668  0.63584566 0.8375893  0.875019   0.9619041\n",
            " 0.69127434 0.8402724  0.8458769  0.8207297  0.8312015  0.7158204\n",
            " 0.7881665  0.8382621  0.9715434  0.67161214 0.76802677 0.64563346\n",
            " 0.8102694  0.6539694  0.99500555 0.69271463 0.7477847  0.65649\n",
            " 0.7053055  0.66043526 0.6974637  0.9326133  0.7818603  0.7648776\n",
            " 0.3919478  0.9011603  0.6697174  0.69803125 0.62459475 0.7239931 ]\n",
            "[0.68929924 0.82544444 0.85036207 1.05796296 0.80012872 0.90296296\n",
            " 0.99999524 0.70024649 0.75065101 0.70009573 0.65666667 0.7018125\n",
            " 0.72112696 0.8805303  0.90939167 0.271875   0.80040196 0.8375947\n",
            " 0.53791944 0.881575   0.67308333 0.74998712 0.49788506 0.56221264\n",
            " 0.271875   0.44104167 0.95194444 0.70017039 0.4925     0.75024303\n",
            " 0.5046875  0.70060345 0.60022985 0.87644444 0.75005736 0.700422\n",
            " 0.91158974 0.3715625  0.40954546 0.73464583 0.65014815 0.80053448\n",
            " 0.82083333 0.80026149 0.97186667 0.4605787  1.00023041 0.80040196\n",
            " 0.80072531 0.80077902 0.70063277 0.47076923 0.78244792 0.87008333\n",
            " 0.85013677 0.80035194 0.68106061 0.67666667 0.70058841 0.82135417\n",
            " 0.96675926 0.82829546 0.81742424 0.5003808  0.94998161 0.55543056\n",
            " 0.30211735 1.00001855 0.97186667 0.69018282 0.35021836 0.90083333\n",
            " 0.93532197 0.85022378 0.80034377 0.85036458 0.75053268 0.75006805\n",
            " 0.64998328 0.97952778 0.75072733 0.75029394 0.753525   0.24625\n",
            " 0.90047076 0.9520202  0.70043672 0.80040196 0.884      0.80068437\n",
            " 0.2565     0.80033333 0.90296296 0.75035613 0.7070459  0.85018182\n",
            " 0.32954545 0.32813158 0.8000345  0.95018596 0.81361111 0.82083333\n",
            " 0.82355556 0.39354885 0.60520833 0.325      0.80001501 1.03315556\n",
            " 0.60128    0.80047373 1.00023041 0.80014414 0.80043462 0.75065101\n",
            " 0.85013677 0.80018182 0.44708333 0.75822917 0.65854167 0.59879234\n",
            " 0.84088889 0.7938447  0.47729167 0.9001584  0.65030714 0.7002366\n",
            " 0.80007657 0.741      0.80024601 0.58604167 0.80098039 0.95515151\n",
            " 0.8        0.70009556 0.80687917 0.50029042 0.80026322 0.65040752\n",
            " 0.63861438 0.71262626 0.9918     1.0115625  0.80024675 0.70038621\n",
            " 0.6000627  0.85013677 0.84583333 0.90666667 0.80011582 0.33214647\n",
            " 0.59061728 0.50024134 0.75006805 0.90014725 0.60036969 0.70025078\n",
            " 0.85050231 0.91276667 0.87971448 0.90032111 0.89172348 0.95919192\n",
            " 0.69204546 0.41155357 0.80040196 0.58       0.70043672 0.80024675\n",
            " 0.79996322 0.84053333 0.74918831 0.85814394 0.8001171  0.32740741\n",
            " 0.60012522 0.75075    0.50006192 0.80040196 0.7504     0.65359848\n",
            " 0.89060417 0.80575    0.23804167 0.68106061 0.49998033 0.80026082\n",
            " 1.00006579 0.52284483 0.61836111 0.86037037 0.80011582 0.62701118\n",
            " 0.65666667 0.86458333 0.99427083 0.700422   0.60023977 0.80059447\n",
            " 0.8000302  0.560625   0.960625   0.80012872 0.53839962 0.72233333\n",
            " 0.35553448 0.75034846 0.70035455 0.85050231 0.85056949 1.05028058\n",
            " 0.70009416 0.97186667 0.85050231 0.80441667 0.85013677 0.75039551\n",
            " 0.80025096 0.85056949 1.00023041 0.70061823 0.49561751 0.26117424\n",
            " 0.80048968 0.79145833 1.00023041 0.67666667 0.7502069  0.70016471\n",
            " 0.77333333 0.700422   0.89219444 0.90050904 0.78375    0.75006805\n",
            " 0.35063299 0.80027969 0.30933333 0.70051357 0.65004407 0.82680303]\n"
          ]
        }
      ]
    }
  ]
}